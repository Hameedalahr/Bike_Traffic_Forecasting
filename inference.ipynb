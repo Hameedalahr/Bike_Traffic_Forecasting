{
 "cells": [
  {
   "cell_type": "markdown",
   "id": "31fef9d6-c176-4908-a85b-a0f3ae371f6f",
   "metadata": {},
   "source": [
    "### Checking Model"
   ]
  },
  {
   "cell_type": "code",
   "execution_count": 2,
   "id": "793fff6e-fe55-48ad-a8e9-9c59810d1aee",
   "metadata": {},
   "outputs": [],
   "source": [
    "import pickle\n",
    "import os"
   ]
  },
  {
   "cell_type": "code",
   "execution_count": 10,
   "id": "4d3dd9d4-7d6d-48c4-bbf4-e25b711a5eb2",
   "metadata": {},
   "outputs": [],
   "source": [
    "model_path=r\"C:\\Users\\abdul\\OneDrive\\Desktop\\LPDG ASSIGNMENT  BIKE FORECASTING\\models\\xgboost_regressor_rides_day_v2.pkl\"\n",
    "model= pickle.load(open(model_path,\"rb\"))\n",
    "\n",
    "model_path_1=r\"C:\\Users\\abdul\\OneDrive\\Desktop\\LPDG ASSIGNMENT  BIKE FORECASTING\\models\\xgboost_regressor_rides_15min_v2.pkl\"\n",
    "model1=pickle.load(open(model_path_1,\"rb\"))"
   ]
  },
  {
   "cell_type": "code",
   "execution_count": 11,
   "id": "5926d92d-b22d-41c5-ba9e-594ebc196601",
   "metadata": {},
   "outputs": [
    {
     "data": {
      "text/plain": [
       "[266.55872, 115.78846]"
      ]
     },
     "execution_count": 11,
     "metadata": {},
     "output_type": "execute_result"
    }
   ],
   "source": [
    "# PREDICTING FOR RIDES_DAY DATASET\n",
    "\n",
    "rides_day_data=[\n",
    "    [-0.36943897, -0.21939061,  0.83511917, -1.10936952,  0.13166802,\n",
    "       -0.2877561 ,  1.75567141, -0.40788589,  2.48165495, -0.40613987,\n",
    "       -0.40994523, -0.41136836, -0.40725135, -0.44680527, -0.45108653,\n",
    "        2.24813618, -0.44818286, -0.44634576],\n",
    "    [ 1.57423565,  0.80602272, -1.18907967, -0.428308  , -0.44694498,\n",
    "       -0.2877561 , -0.63272026, -0.40788589, -0.40295691,  2.46220593,\n",
    "       -0.40994523, -0.41136836, -0.40725135, -0.44680527, -0.45108653,\n",
    "       -0.44481291, -0.44818286, -0.44634576]\n",
    "]\n",
    "rides_day_prediction=model.predict(rides_day_data)\n",
    "list(rides_day_prediction)"
   ]
  },
  {
   "cell_type": "code",
   "execution_count": 12,
   "id": "30cf5cc9-3eb8-43f1-afde-a95ed244ca11",
   "metadata": {},
   "outputs": [
    {
     "data": {
      "text/plain": [
       "[6.4013247, 5.6348953]"
      ]
     },
     "execution_count": 12,
     "metadata": {},
     "output_type": "execute_result"
    }
   ],
   "source": [
    "# PREDICTING FOR RIDES_15MIN DATASET\n",
    "\n",
    "rides_15min_data=[\n",
    "    [ 1.28019918,  1.29460996, -0.29293451,  1.22855458,  1.34210039,\n",
    "        1.37299526, -1.34197508, -0.4079728 , -0.40833789, -0.40758431,\n",
    "       -0.40860996, -0.40821842,  2.44772904, -0.44868663,  2.22941904,\n",
    "       -0.44805255, -0.44872185, -0.44870744],\n",
    "    [-0.76527912,  0.13758792, -1.46159911,  1.51745065,  0.44769637,\n",
    "        1.5174538 ,  1.34165275, -0.4079728 , -0.40833789,  2.45348009,\n",
    "       -0.40860996, -0.40821842, -0.40854195, -0.44868663,  2.22941904,\n",
    "       -0.44805255, -0.44872185, -0.44870744]\n",
    "]\n",
    "rides_15min_prediction=model1.predict(rides_15min_data)\n",
    "list(rides_15min_prediction)"
   ]
  },
  {
   "cell_type": "code",
   "execution_count": null,
   "id": "fe9b3589-402e-4ee9-8721-4612e6e1bc9d",
   "metadata": {},
   "outputs": [],
   "source": []
  }
 ],
 "metadata": {
  "kernelspec": {
   "display_name": "Python [conda env:base] *",
   "language": "python",
   "name": "conda-base-py"
  },
  "language_info": {
   "codemirror_mode": {
    "name": "ipython",
    "version": 3
   },
   "file_extension": ".py",
   "mimetype": "text/x-python",
   "name": "python",
   "nbconvert_exporter": "python",
   "pygments_lexer": "ipython3",
   "version": "3.12.7"
  }
 },
 "nbformat": 4,
 "nbformat_minor": 5
}
